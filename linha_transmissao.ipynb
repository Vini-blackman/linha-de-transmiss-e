{
 "cells": [
  {
   "cell_type": "markdown",
   "metadata": {},
   "source": [
    "Calculo de linha curta, média e longa"
   ]
  },
  {
   "cell_type": "code",
   "execution_count": 3,
   "metadata": {},
   "outputs": [
    {
     "name": "stdout",
     "output_type": "stream",
     "text": [
      "Z=(51.45317503650608, 1.3613114470804104)\n",
      "Adimitancia= (0.000318557495074005, 1.5707963267948966)\n",
      "Zc=(401.89460443456875, -0.10474243985724317)\n",
      "I2=(213.83343303319472, 0.31756042929152145)\n",
      "I1=(221.11257576821126, 0.42569862910535133)A, V1=(76931.47880255748, 0.14440934711982567)V\n",
      "Potencia aparente de entrada=51.10359304246683VA, Regulação=2.379567204663214%, Rendimento=-99.99969337844175% \n",
      "Linha media!\n"
     ]
    }
   ],
   "source": [
    "#Recebendo dados \n",
    "dist1= 100\n",
    "volt_2= 135\n",
    "pot_2 = 50\n",
    "resistencia = 0.107\n",
    "indutancia = 1.335*10**-3\n",
    "capacitancia = 0.00845*10**-6\n",
    "fp = 0.95\n",
    "\n",
    "#Calculo de impedancia, admitancia, constante de propagação, corrente 2\n",
    "dist = [dist1]\n",
    "volt_2_1 = (volt_2/(3**0.5))*1000\n",
    "pot_2_1 = (pot_2/3)*1000000\n",
    "import cmath\n",
    "import math\n",
    "from math import pi, acos\n",
    "fase_corrente = math.acos(fp)\n",
    "cos_1 = cmath.acosh(fp)\n",
    "impe = complex(resistencia*dist1,2*60*pi*indutancia*dist1)\n",
    "adimi = complex(0,2*60*pi*capacitancia*dist1)\n",
    "cte_propagacao = (impe*adimi)**0.5\n",
    "impe_carac = (impe/adimi)**0.5\n",
    "corrente2 = cmath.rect(pot_2_1/volt_2_1,fase_corrente)\n",
    "\n",
    "print(f'Z={cmath.polar(impe)}')\n",
    "print(f'Adimitancia= {cmath.polar(adimi)}')\n",
    "print(f'Zc={cmath.polar(impe_carac)}')\n",
    "print(f'I2={cmath.polar(corrente2)}')\n",
    "#Primeiro bloco -> linha curta\n",
    "for i in dist:\n",
    "    if i <= 80:\n",
    "        volt_1 = volt_2_1 + impe * corrente2\n",
    "        corrente1 = corrente2\n",
    "        print(f'I1={cmath.polar(corrente2)}A, V1={cmath.polar(volt_1)}V')\n",
    "        potencia_carga = (volt_1.real*corrente1.real)/300000\n",
    "        regulacao1 = (((volt_2_1.real-volt_1.real)/volt_1.real))*100\n",
    "        rendimento = (potencia_carga.real-pot_2_1.real)/pot_2_1.real\n",
    "        print(f'Potencia aparente de entrada={potencia_carga}VA, Regulação={regulacao1}V, Rendimento={rendimento}% ')\n",
    "        print('Linha curta!')\n",
    "#Segundo bloco -> linha média\n",
    "    elif 80 < i <= 240:\n",
    "        a = 1 + impe*adimi/2\n",
    "        b = impe\n",
    "        c = adimi + (adimi*adimi*impe)/4\n",
    "        d = a\n",
    "        volt_1 = volt_2_1 * a + b * corrente2\n",
    "        corrente1 = volt_2_1  * c + d * corrente2\n",
    "        print(f'I1={cmath.polar(corrente1)}A, V1={cmath.polar(volt_1)}V')\n",
    "        potencia_carga = (volt_1.real*corrente1.real)/300000\n",
    "        regulacao1 = (((volt_2_1.real-volt_1.real)/volt_1.real))*100\n",
    "        rendimento = ((potencia_carga.real-pot_2_1.real)/pot_2_1.real)*100\n",
    "        \n",
    "        print(f'Potencia aparente de entrada={potencia_carga}VA, Regulação={regulacao1}%, Rendimento={rendimento}% ')\n",
    "        print('Linha media!')\n",
    "#Terceiro bloco -> linha longa\n",
    "    else:\n",
    "        z_linha = (impe_carac * math.sinh(cte_propagacao.real/2))/cte_propagacao\n",
    "        y_2_linha = adimi/2 * math.tanh(cte_propagacao.real*0.5)/cte_propagacao*0.5\n",
    "\n",
    "        a = 1 + z_linha*y_2_linha/2\n",
    "        b = z_linha\n",
    "        c =  y_2_linha * 2 + y_2_linha*z_linha/4\n",
    "        d = a\n",
    "        volt_1 = volt_2 * a + b * corrente2\n",
    "        corrente1 = volt_2  * c + d * corrente2\n",
    "        print(f'I1={cmath.polar(corrente1)}A, V1={cmath.polar(volt_1)}V ')\n",
    "        potencia_carga = (volt_1.real*corrente1.real)/300000\n",
    "        regulacao1 = ((volt_2_1.real-volt_1.real)/volt_1.real)*100\n",
    "        rendimento = (potencia_carga.real-pot_2_1.real)/pot_2_1.real\n",
    "        print(f'Potencia aparente de entrada={potencia_carga}VA, Regulação={regulacao1}V, Rendimento= {rendimento}')\n",
    "        print('Linha longa')\n",
    "\n",
    "\n",
    "\n",
    "\n",
    "\n",
    "\n"
   ]
  },
  {
   "cell_type": "markdown",
   "metadata": {},
   "source": [
    "Receber parametros da linha: resistencia, indutancia e capacitancia."
   ]
  },
  {
   "cell_type": "code",
   "execution_count": null,
   "metadata": {},
   "outputs": [],
   "source": [
    "\n",
    "resistencia = float(input([print(f'Digite os parametros da linha, a resistencia da linha(ohm/km):')]))\n",
    "indutancia = float(input([print(f'Digite o indutancia  da linha(herny/km):')]))\n",
    "capacitancia = float(input([print(f'Digite a capacitancia  da linha(farad/km):')]))\n",
    "fp = float(input([print(f'Digite o fator de potencia(indutivo(+), capacitivo(-)):')]))\n",
    "dist1= int(input(f'Digite o comprimento da linha (Km):'))\n",
    "volt_2= float(input(print(f'Digite a voltagem da linha fase-fase (KV):')))\n",
    "pot_2 = float(input(print(f'Digite a potencia aparente da linha (MVA):')))\n"
   ]
  },
  {
   "cell_type": "markdown",
   "metadata": {},
   "source": [
    "Calcular os parametros(R, Xl, Xc)."
   ]
  },
  {
   "cell_type": "code",
   "execution_count": 102,
   "metadata": {},
   "outputs": [
    {
     "name": "stdout",
     "output_type": "stream",
     "text": [
      "Z=(12.002901312959883, 0.021987604552460804), Adimitancia=(9e-06, 1.5707963267948966), Zc=(1154.8401194277876, -0.7744043611212179) e I2=(427.6668678924813, 0.4027158415806615)\n",
      "I1=(427.71846331643275, 0.402579145196387)A, V1=(172738.52605601132, -1.1673614342822356)V \n"
     ]
    }
   ],
   "source": [
    "resistencia = 0.12\n",
    "indutancia = 0.0014\n",
    "capacitancia = 0.00000009\n",
    "fp = 0.92\n",
    "dist = 100\n",
    "pot_2_1 = 33333333.33\n",
    "volt_2_1 = 77942.286\n",
    "\n",
    "import cmath\n",
    "import math\n",
    "from math import pi, acos\n",
    "\n",
    "fase_corrente = math.acos(fp)\n",
    "cos_1 = cmath.acosh(fp)\n",
    "impe = complex(resistencia*dist,60*pi*indutancia)\n",
    "adimi = complex(0,capacitancia*dist)\n",
    "cte_propagacao = (impe*adimi)**0.5\n",
    "impe_carac = (impe/adimi)**0.5\n",
    "corrente2 = cmath.rect(pot_2_1/volt_2_1,fase_corrente)\n",
    "print(f'Z={cmath.polar(impe)}, Adimitancia={cmath.polar(adimi)}, Zc={cmath.polar(impe_carac)} e I2={cmath.polar(corrente2)}')\n",
    "z_linha = (impe_carac * math.sinh(cte_propagacao.real/2))/cte_propagacao\n",
    "y_2_linha = adimi/2 * math.tanh(cte_propagacao.real*0.5)/cte_propagacao*0.5\n",
    "\n",
    "\n"
   ]
  },
  {
   "cell_type": "code",
   "execution_count": null,
   "metadata": {},
   "outputs": [],
   "source": [
    "resistencia = float(input([print(f'Digite os parametros da linha, a resistencia da linha(ohm/km):')]))\n",
    "indutancia = float(input([print(f'Digite o indutancia  da linha(herny/km):')]))\n",
    "capacitancia = float(input([print(f'Digite a capacitancia  da linha(farad/km):')]))\n",
    "fp = float(input([print(f'Digite o fator de potencia(indutivo(+), capacitivo(-)):')]))"
   ]
  },
  {
   "cell_type": "markdown",
   "metadata": {},
   "source": [
    "Calcular linha curta"
   ]
  },
  {
   "cell_type": "code",
   "execution_count": null,
   "metadata": {},
   "outputs": [],
   "source": [
    "volt_curta1 = volt_2_1 + impe * corrente2\n",
    "corrente1 = corrente2\n",
    "print(f'I1={cmath.polar(corrente2)}A, V1={cmath.polar(volt_curta1)}V ')"
   ]
  },
  {
   "cell_type": "markdown",
   "metadata": {},
   "source": [
    "Calcular linha media "
   ]
  },
  {
   "cell_type": "code",
   "execution_count": null,
   "metadata": {},
   "outputs": [],
   "source": [
    "a = 1 + impe*adimi/2\n",
    "b = impe\n",
    "c = adimi + (adimi*adimi*impe)/4\n",
    "d = a\n",
    "volt_media = volt_2_1 * a + b * corrente2\n",
    "corrente1 = volt_2_1  * c + d * corrente2\n",
    "print(f'I1={cmath.polar(corrente1)}A, V1={cmath.polar(volt_media)}V ')\n"
   ]
  },
  {
   "cell_type": "markdown",
   "metadata": {},
   "source": [
    "Calcular linha longa"
   ]
  },
  {
   "cell_type": "code",
   "execution_count": null,
   "metadata": {},
   "outputs": [],
   "source": [
    "\n",
    "import numpy as np\n",
    "import math\n",
    "\n",
    "z_linha = (impe_carac * math.sinh(cte_propagacao.real/2))/cte_propagacao\n",
    "y_2_linha = adimi/2 * math.tanh(cte_propagacao.real/2)/cte_propagacao*0.5\n",
    "\n",
    "a = 1 + z_linha*y_2_linha/2\n",
    "b = z_linha\n",
    "c =  y_2_linha * 2 + y_2_linha*z_linha/4\n",
    "d = 1 + z_linha*y_2_linha/2\n",
    "volt_media = volt_2 * a + b * corrente2\n",
    "corrente1 = volt_2  * c + d * corrente2\n"
   ]
  }
 ],
 "metadata": {
  "kernelspec": {
   "display_name": "Python 3 (ipykernel)",
   "language": "python",
   "name": "python3"
  },
  "language_info": {
   "codemirror_mode": {
    "name": "ipython",
    "version": 3
   },
   "file_extension": ".py",
   "mimetype": "text/x-python",
   "name": "python",
   "nbconvert_exporter": "python",
   "pygments_lexer": "ipython3",
   "version": "3.9.12"
  },
  "vscode": {
   "interpreter": {
    "hash": "92f68d7b15522168eff31c771d0fdfea2bb981f782564b6a295ac19af1c431bf"
   }
  }
 },
 "nbformat": 4,
 "nbformat_minor": 2
}
